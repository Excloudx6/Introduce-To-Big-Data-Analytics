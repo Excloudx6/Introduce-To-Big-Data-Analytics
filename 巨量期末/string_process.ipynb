{
 "cells": [
  {
   "cell_type": "code",
   "execution_count": 46,
   "metadata": {},
   "outputs": [],
   "source": [
    "import pandas as pd\n",
    "import re\n",
    "\n",
    "tw = pd.read_csv(\"./tw.csv\")"
   ]
  },
  {
   "cell_type": "code",
   "execution_count": 44,
   "metadata": {},
   "outputs": [
    {
     "data": {
      "text/plain": [
       "4       <U+C5E0><U+B137>|Mnet|<U+C5E0><U+D22C>|M2|MPD|...\n",
       "8       這群人|TGOP|搞笑影片|This|Group|Of|People|茵聲|展榮|許展瑞|董...\n",
       "10                         高分|戰爭|影評|槍戰|特種部隊|殺手|黑幫|漫威|超級英雄\n",
       "13      vanh leg|vanh leg 2020|vanh|leg|youtube|h<U+1E...\n",
       "15                重力|維度|宇宙審查官|未來<U+7232>什<U+9EBD>是確定的|因果論\n",
       "                              ...                        \n",
       "1597    <U+D2B8><U+C640><U+C774><U+C2A4>|TWICE|MOREand...\n",
       "1602    台劇|民視|時代劇|FTV|多情城市|Golden City|台灣劇|何蓓蓓|加純|GINO...\n",
       "1605                                                 完全娛樂\n",
       "1609    <U+5267>|<U+5267>集|<U+7535><U+89C6><U+5267>|<U...\n",
       "1613    <U+4ECE><U+7ED3>婚<U+5F00>始<U+604B><U+7231>|<U+...\n",
       "Name: tags, Length: 549, dtype: object"
      ]
     },
     "execution_count": 44,
     "metadata": {},
     "output_type": "execute_result"
    }
   ],
   "source": [
    "# before\n",
    "tw_ent = tw[tw[\"categoryId\"] == 24] # entertainment\n",
    "tw_ent[\"tags\"]"
   ]
  },
  {
   "cell_type": "code",
   "execution_count": 45,
   "metadata": {},
   "outputs": [
    {
     "name": "stderr",
     "output_type": "stream",
     "text": [
      "<ipython-input-45-ca85895f33ca>:7: SettingWithCopyWarning: \n",
      "A value is trying to be set on a copy of a slice from a DataFrame.\n",
      "Try using .loc[row_indexer,col_indexer] = value instead\n",
      "\n",
      "See the caveats in the documentation: https://pandas.pydata.org/pandas-docs/stable/user_guide/indexing.html#returning-a-view-versus-a-copy\n",
      "  tw_ent[\"tags\"] = tags_clean\n"
     ]
    },
    {
     "data": {
      "text/plain": [
       "4       |Mnet||M2|MPD||Kpop|K-Pop|K||||Live|Dance|||MP...\n",
       "8       這群人|TGOP|搞笑影片|This|Group|Of|People|茵聲|展榮|許展瑞|董...\n",
       "10                         高分|戰爭|影評|槍戰|特種部隊|殺手|黑幫|漫威|超級英雄\n",
       "13      vanh leg|vanh leg 2020|vanh|leg|youtube|hc vin...\n",
       "15                                重力|維度|宇宙審查官|未來什是確定的|因果論\n",
       "                              ...                        \n",
       "1597    |TWICE|MOREandMORE|ICANTSTOPME|2020MAMA|2020|M...\n",
       "1602    台劇|民視|時代劇|FTV|多情城市|Golden City|台灣劇|何蓓蓓|加純|GINO...\n",
       "1605                                                 完全娛樂\n",
       "1609    |集|||||大|中|最新|2020最新|同步|偶像|偶像|drama|idol drama...\n",
       "1613    婚始| 婚始|婚始 |Begin Again 28|婚始 Begin Again|周雨彤俊|...\n",
       "Name: tags, Length: 549, dtype: object"
      ]
     },
     "execution_count": 45,
     "metadata": {},
     "output_type": "execute_result"
    }
   ],
   "source": [
    "# after\n",
    "tw_ent = tw[tw[\"categoryId\"] == 24]\n",
    "tags = tw_ent[\"tags\"]\n",
    "tags_clean = []\n",
    "for tag in tags:\n",
    "     tags_clean.append(re.sub(r\"<.+?>\", \"\", tag))\n",
    "tw_ent[\"tags\"] = tags_clean\n",
    "tw_ent[\"tags\"]"
   ]
  }
 ],
 "metadata": {
  "kernelspec": {
   "display_name": "Python 3",
   "language": "python",
   "name": "python3"
  },
  "language_info": {
   "codemirror_mode": {
    "name": "ipython",
    "version": 3
   },
   "file_extension": ".py",
   "mimetype": "text/x-python",
   "name": "python",
   "nbconvert_exporter": "python",
   "pygments_lexer": "ipython3",
   "version": "3.8.3"
  }
 },
 "nbformat": 4,
 "nbformat_minor": 4
}

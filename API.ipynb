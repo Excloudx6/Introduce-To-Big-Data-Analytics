{
 "cells": [
  {
   "cell_type": "markdown",
   "metadata": {},
   "source": [
    "1. 康老師頻道 API <br>\n",
    "https://www.googleapis.com/youtube/v3/videos?part=statistics%2Csnippet&id=HwOaklJxahk&maxResults=50&key={API_KEY}&fbclid=IwAR3rx7XmGLTM6fDxceGsmWCv7VvblRAnGE_U3beZCUJcpp9Rn-vwzJ2-5jw\n",
    "\n",
    "<br>\n",
    "\n",
    "2. 影片長度 API <br>\n",
    "https://www.googleapis.com/youtube/v3/videos?part=id,statistics,snippet,contentDetails{page_token}chart=mostPopular&regionCode={country_code}&maxResults=50&key={api_key}\n"
   ]
  }
 ],
 "metadata": {
  "kernelspec": {
   "display_name": "R",
   "language": "R",
   "name": "ir"
  },
  "language_info": {
   "codemirror_mode": "r",
   "file_extension": ".r",
   "mimetype": "text/x-r-source",
   "name": "R",
   "pygments_lexer": "r",
   "version": "3.6.1"
  }
 },
 "nbformat": 4,
 "nbformat_minor": 4
}
